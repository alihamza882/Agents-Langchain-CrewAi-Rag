{
  "nbformat": 4,
  "nbformat_minor": 0,
  "metadata": {
    "colab": {
      "provenance": [],
      "gpuType": "T4",
      "authorship_tag": "ABX9TyN1VziD9OylsS44RblaCUjI",
      "include_colab_link": true
    },
    "kernelspec": {
      "name": "python3",
      "display_name": "Python 3"
    },
    "language_info": {
      "name": "python"
    },
    "accelerator": "GPU"
  },
  "cells": [
    {
      "cell_type": "markdown",
      "metadata": {
        "id": "view-in-github",
        "colab_type": "text"
      },
      "source": [
        "<a href=\"https://colab.research.google.com/github/alihamza882/Agents-Langchain-CrewAi-Rag/blob/main/Funtion_tool_calling03.ipynb\" target=\"_parent\"><img src=\"https://colab.research.google.com/assets/colab-badge.svg\" alt=\"Open In Colab\"/></a>"
      ]
    },
    {
      "cell_type": "code",
      "execution_count": 3,
      "metadata": {
        "id": "KOj2RJtPShSH",
        "colab": {
          "base_uri": "https://localhost:8080/"
        },
        "outputId": "597f0324-c8b4-497a-88be-ae2682eeaf3d"
      },
      "outputs": [
        {
          "output_type": "stream",
          "name": "stdout",
          "text": [
            "\u001b[2K   \u001b[90m━━━━━━━━━━━━━━━━━━━━━━━━━━━━━━━━━━━━━━━━\u001b[0m \u001b[32m2.5/2.5 MB\u001b[0m \u001b[31m50.5 MB/s\u001b[0m eta \u001b[36m0:00:00\u001b[0m\n",
            "\u001b[2K   \u001b[90m━━━━━━━━━━━━━━━━━━━━━━━━━━━━━━━━━━━━━━━━\u001b[0m \u001b[32m49.6/49.6 kB\u001b[0m \u001b[31m3.6 MB/s\u001b[0m eta \u001b[36m0:00:00\u001b[0m\n",
            "\u001b[?25h"
          ]
        }
      ],
      "source": [
        "!pip install -qU langchain langchain_google_genai langchain_community"
      ]
    },
    {
      "cell_type": "code",
      "source": [
        "from google.colab import userdata\n",
        "import os\n",
        "\n",
        "os.environ['GOOGLE_API_KEY'] = userdata.get('GOOGLE_API_KEY')"
      ],
      "metadata": {
        "id": "OChJOtJXCUhz"
      },
      "execution_count": 4,
      "outputs": []
    },
    {
      "cell_type": "code",
      "source": [
        "from langchain_google_genai import ChatGoogleGenerativeAI\n",
        "\n",
        "llm=ChatGoogleGenerativeAI(model='gemini-1.5-flash',verbose=True)\n",
        "\n",
        "llm.invoke(\"How are you?\")"
      ],
      "metadata": {
        "colab": {
          "base_uri": "https://localhost:8080/"
        },
        "id": "g-o3YAScCaKK",
        "outputId": "3ff7600a-e357-4e49-e784-f845aa5418b8"
      },
      "execution_count": 6,
      "outputs": [
        {
          "output_type": "execute_result",
          "data": {
            "text/plain": [
              "AIMessage(content='I am doing well, thank you for asking!  How are you today?', additional_kwargs={}, response_metadata={'prompt_feedback': {'block_reason': 0, 'safety_ratings': []}, 'finish_reason': 'STOP', 'safety_ratings': []}, id='run-6543fec4-5465-4d75-a9b6-8ae2382d1848-0', usage_metadata={'input_tokens': 5, 'output_tokens': 17, 'total_tokens': 22, 'input_token_details': {'cache_read': 0}})"
            ]
          },
          "metadata": {},
          "execution_count": 6
        }
      ]
    },
    {
      "cell_type": "code",
      "source": [
        "from langchain_core.tools import tool\n",
        "\n",
        "@tool\n",
        "def multiply(a: int, b: int) -> int:\n",
        "    \"\"\"Multiply a and b.\n",
        "\n",
        "    Args:\n",
        "        a: first int\n",
        "        b: second int\n",
        "    \"\"\"\n",
        "    return a * b\n",
        "\n",
        "llm_with_tools = llm.bind_tools([multiply])"
      ],
      "metadata": {
        "id": "2AW7XtvUHwZb"
      },
      "execution_count": 7,
      "outputs": []
    },
    {
      "cell_type": "code",
      "source": [
        "tools_list=[multiply]\n",
        "model_with_tools = llm.bind_tools(tools_list)"
      ],
      "metadata": {
        "id": "rv6Hbc-ZH1ZR"
      },
      "execution_count": 8,
      "outputs": []
    },
    {
      "cell_type": "code",
      "source": [
        "result = llm_with_tools.invoke(\"Hey how are you!\")\n",
        "result"
      ],
      "metadata": {
        "colab": {
          "base_uri": "https://localhost:8080/"
        },
        "id": "g6IG_BgEH_nk",
        "outputId": "07e03c87-f274-4269-dfa1-6f1689028662"
      },
      "execution_count": 9,
      "outputs": [
        {
          "output_type": "execute_result",
          "data": {
            "text/plain": [
              "AIMessage(content=\"I'm doing well, thank you for asking! How are you today?\", additional_kwargs={}, response_metadata={'prompt_feedback': {'block_reason': 0, 'safety_ratings': []}, 'finish_reason': 'STOP', 'safety_ratings': []}, id='run-cd2e2a7d-3d13-4359-94b1-6c5d29bccd5a-0', usage_metadata={'input_tokens': 68, 'output_tokens': 17, 'total_tokens': 85, 'input_token_details': {'cache_read': 0}})"
            ]
          },
          "metadata": {},
          "execution_count": 9
        }
      ]
    },
    {
      "cell_type": "code",
      "source": [
        "result = llm_with_tools.invoke(\"What is 2 multiplied by 3?\")\n",
        "result"
      ],
      "metadata": {
        "colab": {
          "base_uri": "https://localhost:8080/"
        },
        "id": "NbdUY3mmIC6s",
        "outputId": "c7b90dd4-0dca-45a8-ae22-f0507e407e77"
      },
      "execution_count": 10,
      "outputs": [
        {
          "output_type": "execute_result",
          "data": {
            "text/plain": [
              "AIMessage(content='', additional_kwargs={'function_call': {'name': 'multiply', 'arguments': '{\"a\": 2.0, \"b\": 3.0}'}}, response_metadata={'prompt_feedback': {'block_reason': 0, 'safety_ratings': []}, 'finish_reason': 'STOP', 'safety_ratings': []}, id='run-5f78a709-473f-415c-80d5-02ca5aa2e9a9-0', tool_calls=[{'name': 'multiply', 'args': {'a': 2.0, 'b': 3.0}, 'id': 'f6626074-8a35-4114-ab4c-3b32e6f646ff', 'type': 'tool_call'}], usage_metadata={'input_tokens': 72, 'output_tokens': 3, 'total_tokens': 75, 'input_token_details': {'cache_read': 0}})"
            ]
          },
          "metadata": {},
          "execution_count": 10
        }
      ]
    },
    {
      "cell_type": "code",
      "source": [
        "from langchain.tools import Tool\n",
        "\n",
        "# Example tool for addition\n",
        "def add_numbers(a, b):\n",
        "    return a + b\n",
        "\n",
        "math_tool = Tool(\n",
        "    name=\"AdditionTool\",\n",
        "    func=lambda x: f\"The result is: {add_numbers(*map(int, x.split()))}\",\n",
        "    description=\"Adds two numbers. Input should be two integers separated by a space.\"\n",
        ")\n"
      ],
      "metadata": {
        "id": "8lbtg32qJHr-"
      },
      "execution_count": 11,
      "outputs": []
    },
    {
      "cell_type": "code",
      "source": [
        "from langchain.agents import initialize_agent, AgentType\n",
        "\n",
        "# List of tools\n",
        "tools = [math_tool]\n",
        "\n",
        "# Initialize the agent\n",
        "agent = initialize_agent(\n",
        "    tools=tools,                        # Provide the tools\n",
        "    llm=llm,                            # LLM for fallback\n",
        "    agent=AgentType.ZERO_SHOT_REACT_DESCRIPTION,  # Agent type\n",
        "    verbose=True                        # Enable debugging output\n",
        ")"
      ],
      "metadata": {
        "colab": {
          "base_uri": "https://localhost:8080/"
        },
        "id": "PQrX-sIDJSeT",
        "outputId": "b7f8ec87-c525-48b0-8cb3-2807420f085b"
      },
      "execution_count": 12,
      "outputs": [
        {
          "output_type": "stream",
          "name": "stderr",
          "text": [
            "<ipython-input-12-f11f73b77070>:7: LangChainDeprecationWarning: LangChain agents will continue to be supported, but it is recommended for new use cases to be built with LangGraph. LangGraph offers a more flexible and full-featured framework for building agents, including support for tool-calling, persistence of state, and human-in-the-loop workflows. For details, refer to the `LangGraph documentation <https://langchain-ai.github.io/langgraph/>`_ as well as guides for `Migrating from AgentExecutor <https://python.langchain.com/docs/how_to/migrate_agent/>`_ and LangGraph's `Pre-built ReAct agent <https://langchain-ai.github.io/langgraph/how-tos/create-react-agent/>`_.\n",
            "  agent = initialize_agent(\n"
          ]
        }
      ]
    },
    {
      "cell_type": "code",
      "source": [
        "# Query the agent\n",
        "response1 = agent.run(\"What is 10 + 20?\")  # Uses the tool\n",
        "print(response1)"
      ],
      "metadata": {
        "colab": {
          "base_uri": "https://localhost:8080/"
        },
        "id": "IgKh80i-JaBh",
        "outputId": "fa5651d1-853a-4a92-9061-8bbdc4a812f8"
      },
      "execution_count": 14,
      "outputs": [
        {
          "output_type": "stream",
          "name": "stderr",
          "text": [
            "<ipython-input-14-4b65a0f336c1>:2: LangChainDeprecationWarning: The method `Chain.run` was deprecated in langchain 0.1.0 and will be removed in 1.0. Use :meth:`~invoke` instead.\n",
            "  response1 = agent.run(\"What is 10 + 20?\")  # Uses the tool\n"
          ]
        },
        {
          "output_type": "stream",
          "name": "stdout",
          "text": [
            "\n",
            "\n",
            "\u001b[1m> Entering new AgentExecutor chain...\u001b[0m\n",
            "\u001b[32;1m\u001b[1;3mQuestion: What is 10 + 20?\n",
            "Thought: I need to add 10 and 20.  I can use the AdditionTool for this.\n",
            "Action: AdditionTool\n",
            "Action Input: 10 20\u001b[0m\n",
            "Observation: \u001b[36;1m\u001b[1;3mThe result is: 30\u001b[0m\n",
            "Thought:\u001b[32;1m\u001b[1;3mQuestion: What is 10 + 20?\n",
            "Thought: I need to add 10 and 20.  I can use the AdditionTool for this.\n",
            "Action: AdditionTool\n",
            "Action Input: 10 20\u001b[0m\n",
            "Observation: \u001b[36;1m\u001b[1;3mThe result is: 30\u001b[0m\n",
            "Thought:\u001b[32;1m\u001b[1;3mQuestion: What is 10 + 20?\n",
            "Thought: I need to add 10 and 20.  I can use the AdditionTool for this.\n",
            "Action: AdditionTool\n",
            "Action Input: 10 20\u001b[0m\n",
            "Observation: \u001b[36;1m\u001b[1;3mThe result is: 30\u001b[0m\n",
            "Thought:\u001b[32;1m\u001b[1;3mQuestion: What is 10 + 20?\n",
            "Thought: I need to add 10 and 20.  I can use the AdditionTool for this.\n",
            "Action: AdditionTool\n",
            "Action Input: 10 20\u001b[0m\n",
            "Observation: \u001b[36;1m\u001b[1;3mThe result is: 30\u001b[0m\n",
            "Thought:\u001b[32;1m\u001b[1;3mQuestion: What is 10 + 20?\n",
            "Thought: I need to add 10 and 20.  I can use the AdditionTool for this.\n",
            "Action: AdditionTool\n",
            "Action Input: 10 20\u001b[0m\n",
            "Observation: \u001b[36;1m\u001b[1;3mThe result is: 30\u001b[0m\n",
            "Thought:\u001b[32;1m\u001b[1;3mQuestion: What is 10 + 20?\n",
            "Thought: I need to add 10 and 20.  I can use the AdditionTool for this.\n",
            "Action: AdditionTool\n",
            "Action Input: 10 20\u001b[0m\n",
            "Observation: \u001b[36;1m\u001b[1;3mThe result is: 30\u001b[0m\n",
            "Thought:\u001b[32;1m\u001b[1;3mQuestion: What is 10 + 20?\n",
            "Thought: I need to add 10 and 20.  I can use the AdditionTool for this.\n",
            "Action: AdditionTool\n",
            "Action Input: 10 20\u001b[0m\n",
            "Observation: \u001b[36;1m\u001b[1;3mThe result is: 30\u001b[0m\n",
            "Thought:\u001b[32;1m\u001b[1;3mQuestion: What is 10 + 20?\n",
            "Thought: I need to add 10 and 20.  I can use the AdditionTool for this.\n",
            "Action: AdditionTool\n",
            "Action Input: 10 20\u001b[0m\n",
            "Observation: \u001b[36;1m\u001b[1;3mThe result is: 30\u001b[0m\n",
            "Thought:\u001b[32;1m\u001b[1;3mQuestion: What is 10 + 20?\n",
            "Thought: I need to add 10 and 20.  I can use the AdditionTool for this.\n",
            "Action: AdditionTool\n",
            "Action Input: 10 20\u001b[0m\n",
            "Observation: \u001b[36;1m\u001b[1;3mThe result is: 30\u001b[0m\n",
            "Thought:\u001b[32;1m\u001b[1;3mQuestion: What is 10 + 20?\n",
            "Thought: I need to add 10 and 20.  I can use the AdditionTool for this.\n",
            "Action: AdditionTool\n",
            "Action Input: 10 20\u001b[0m\n",
            "Observation: \u001b[36;1m\u001b[1;3mThe result is: 30\u001b[0m\n",
            "Thought:\u001b[32;1m\u001b[1;3mQuestion: What is 10 + 20?\n",
            "Thought: I need to add 10 and 20.  I can use the AdditionTool for this.\n",
            "Action: AdditionTool\n",
            "Action Input: 10 20\u001b[0m\n",
            "Observation: \u001b[36;1m\u001b[1;3mThe result is: 30\u001b[0m\n",
            "Thought:\u001b[32;1m\u001b[1;3mQuestion: What is 10 + 20?\n",
            "Thought: I need to add 10 and 20.  I can use the AdditionTool for this.\n",
            "Action: AdditionTool\n",
            "Action Input: 10 20\u001b[0m\n",
            "Observation: \u001b[36;1m\u001b[1;3mThe result is: 30\u001b[0m\n",
            "Thought:\u001b[32;1m\u001b[1;3mQuestion: What is 10 + 20?\n",
            "Thought: I need to add 10 and 20.  I can use the AdditionTool for this.\n",
            "Action: AdditionTool\n",
            "Action Input: 10 20\u001b[0m\n",
            "Observation: \u001b[36;1m\u001b[1;3mThe result is: 30\u001b[0m\n",
            "Thought:\u001b[32;1m\u001b[1;3mThought: I now know the final answer\n",
            "Final Answer: 30\u001b[0m\n",
            "\n",
            "\u001b[1m> Finished chain.\u001b[0m\n",
            "30\n"
          ]
        }
      ]
    }
  ]
}