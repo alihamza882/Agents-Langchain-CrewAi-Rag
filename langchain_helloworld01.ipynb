{
  "nbformat": 4,
  "nbformat_minor": 0,
  "metadata": {
    "colab": {
      "provenance": [],
      "authorship_tag": "ABX9TyOCh8GEFMtYbnUscGe+SU3V",
      "include_colab_link": true
    },
    "kernelspec": {
      "name": "python3",
      "display_name": "Python 3"
    },
    "language_info": {
      "name": "python"
    }
  },
  "cells": [
    {
      "cell_type": "markdown",
      "metadata": {
        "id": "view-in-github",
        "colab_type": "text"
      },
      "source": [
        "<a href=\"https://colab.research.google.com/github/alihamza882/Agents-Langchain-CrewAi-Rag/blob/main/langchain_helloworld01.ipynb\" target=\"_parent\"><img src=\"https://colab.research.google.com/assets/colab-badge.svg\" alt=\"Open In Colab\"/></a>"
      ]
    },
    {
      "cell_type": "code",
      "source": [
        "!pip -q install langchain_google_genai\n",
        "\n",
        "from langchain_google_genai import ChatGoogleGenerativeAI\n",
        "from langchain.prompts import PromptTemplate\n",
        "from langchain.chains import LLMChain\n",
        "from google.colab import userdata\n",
        "import os\n",
        "os.environ[\"GOOGLE_API_KEY\"] = userdata.get(\"GOOGLE_API_KEY\")\n",
        "\n",
        "llm = ChatGoogleGenerativeAI(\n",
        "    api_key= userdata.get(\"GOOGLE_API_KEY\"),\n",
        "    model=\"gemini-2.0-flash-exp\",\n",
        "    temperature=0.5\n",
        ")\n",
        "\n",
        "prompt_template = PromptTemplate(\n",
        "    input_variables=[\"question\"],\n",
        "    template=\"You are a helpful assistant. Answer the following question:\\n\\n{question}\"\n",
        ")\n",
        "\n",
        "chain = LLMChain(llm=llm, prompt=prompt_template)\n",
        "\n",
        "question = \"What is Langchain. explain it for easy to understand a beginner level?\"\n",
        "response = chain.run({\"question\": question})\n",
        "print(\"Answer: \\n\\n\", response)"
      ],
      "metadata": {
        "colab": {
          "base_uri": "https://localhost:8080/"
        },
        "id": "-Xkj-ivSUpFU",
        "outputId": "daa38f20-ddf5-42ec-d9df-11b22190ded4"
      },
      "execution_count": null,
      "outputs": [
        {
          "output_type": "stream",
          "name": "stdout",
          "text": [
            "Answer: \n",
            "\n",
            " Okay, let's break down Langchain in a way that's easy for a beginner to understand.\n",
            "\n",
            "Imagine you have a really smart AI, like the ones that can write stories or answer questions. This AI is like a powerful engine, but it needs a way to be directed and used effectively. That's where Langchain comes in.\n",
            "\n",
            "**Langchain is like a toolkit for building applications that use AI (specifically, Large Language Models or LLMs).** Think of it as a set of tools and building blocks that help you:\n",
            "\n",
            "* **Connect to different AI models:** Langchain makes it easy to plug in different AI models, like the ones from OpenAI (GPT-3, GPT-4), Google (PaLM), or others. You don't have to worry about the complicated technical details of how they work.\n",
            "* **Chain together actions:** Instead of just asking the AI one question, you can use Langchain to create a series of steps. For example, you could:\n",
            "    1. Ask the AI to summarize a document.\n",
            "    2. Then, ask it to extract key information from the summary.\n",
            "    3. Finally, ask it to answer a specific question based on that extracted information.\n",
            "    Langchain lets you create these \"chains\" of actions.\n",
            "* **Give the AI access to external data:** AI models are trained on a lot of data, but sometimes you need them to use specific, up-to-date information. Langchain can help you connect the AI to things like:\n",
            "    * **Your own documents:** Like a company report or a personal note.\n",
            "    * **Databases:** To get specific information.\n",
            "    * **The internet:** To search for current events.\n",
            "* **Make the AI more interactive:** Langchain can help you build applications that have conversations with the user, remember previous interactions, and adapt to what the user is saying.\n",
            "\n",
            "**Think of it like building with LEGOs:**\n",
            "\n",
            "* **LLMs (AI models) are like the LEGO bricks:** They are the core building blocks.\n",
            "* **Langchain is like the instruction manual and the special connectors:** It tells you how to put the bricks together in different ways to build different things.\n",
            "\n",
            "**Here are some examples of what you can build with Langchain:**\n",
            "\n",
            "* **Chatbots:** That can answer questions about your business or provide customer support.\n",
            "* **Document summarization tools:** That can quickly condense large documents into key points.\n",
            "* **Question-answering systems:** That can find answers to complex questions using various sources of information.\n",
            "* **Personalized AI assistants:** That can help you with tasks like scheduling appointments or writing emails.\n",
            "\n",
            "**Key takeaways for a beginner:**\n",
            "\n",
            "* **Langchain isn't an AI model itself; it's a tool that helps you use AI models.**\n",
            "* **It makes it easier to build complex applications that use AI.**\n",
            "* **It helps you connect AI to different data sources and create chains of actions.**\n",
            "* **It's like a toolkit for building with AI.**\n",
            "\n",
            "So, if you're interested in exploring the world of AI and building your own applications, Langchain is a great place to start! It provides a more user-friendly way to interact with the power of AI.\n",
            "\n"
          ]
        }
      ]
    },
    {
      "cell_type": "code",
      "source": [],
      "metadata": {
        "id": "8yqy-gEnae4n"
      },
      "execution_count": null,
      "outputs": []
    },
    {
      "cell_type": "markdown",
      "source": [],
      "metadata": {
        "id": "aHvVlXELgKlM"
      }
    }
  ]
}